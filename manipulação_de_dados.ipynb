{
 "cells": [
  {
   "cell_type": "code",
   "execution_count": null,
   "metadata": {},
   "outputs": [],
   "source": [
    "import sqlite3\n",
    "\n",
    "# Conectar (ou criar) o banco de dados\n",
    "conn = sqlite3.connect('semana3mod3.db')\n",
    "\n",
    "# Criar um objeto cursor para executar comandos SQL\n",
    "c = conn.cursor()\n",
    "\n",
    "# Criar a tabela de fornecedores\n",
    "c.execute('''\n",
    "    CREATE TABLE fornecedor (\n",
    "    id INT,\n",
    "    nome VARCHAR(150) NOT NULL,\n",
    "    endereco VARCHAR(150),\n",
    "    produtos VARCHAR(20)\n",
    ");\n",
    "''')\n",
    "\n",
    "\n",
    "c.execute('''\n",
    "        INSERT INTO fornecedor (id, nome, endereco, produtos) VALUES (1, 'Empresa de Leite ParmaLeite', 'Rua dos Leites, 23', 'leite');\n",
    "        INSERT INTO fornecedor (id, nome, endereco, produtos) VALUES (2, 'Peixaria Abril', 'Rua dos Leites, 25', 'peixe');\n",
    "        INSERT INTO fornecedor (id, nome, endereco, produtos) VALUES (3, 'Açougue Legal', 'Rua dos Leites, 30', 'carnes');\n",
    "        INSERT INTO fornecedor (id, nome, endereco, produtos) VALUES (4, 'Açougue Novo', 'Rua dos Leites, 35', 'carnes');\n",
    "        INSERT INTO fornecedor (id, nome, endereco, produtos) VALUES (3, 'Padaria do Pão', 'Rua dos Leites, 66', 'Pães');\n",
    "        INSERT INTO fornecedor (id, nome, endereco, produtos) VALUES (4, 'Marcenaria Martelo', 'Rua dos Leites, 99', 'Madeiras');\n",
    "        ''')\n",
    "\n",
    "c.execute('''\n",
    "        UPDATE fornecedor SET endereco = 'Rua dos Peixes, 26' WHERE id = 2;\n",
    "        ''')\n",
    "\n",
    "c.execute('''\n",
    "        Select * from fornecedor\n",
    "''')\n",
    "\n",
    "c.execute('''\n",
    "        SELECT * FROM fornecedor WHERE produtos ='carnes';\n",
    "''')\n",
    "\n",
    "c.execute('''\n",
    "        DELETE FROM fornecedor WHERE id=1;\n",
    "''')\n",
    "\n",
    "# Salvar as alterações e fechar a conexão\n",
    "conn.commit()\n",
    "conn.close()"
   ]
  }
 ],
 "metadata": {
  "language_info": {
   "name": "python"
  },
  "orig_nbformat": 4
 },
 "nbformat": 4,
 "nbformat_minor": 2
}
